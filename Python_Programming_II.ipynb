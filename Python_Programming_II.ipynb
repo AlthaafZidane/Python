{
 "cells": [
  {
   "cell_type": "markdown",
   "metadata": {
    "id": "UhBdHo2xtzR9"
   },
   "source": [
    "## Teknis Pengerjaan\n",
    "1. Pekerjaan dilakukan secara kelompok, pada https://colab.research.google.com/ (Soal 1-7) dan Jupyter (Soal 8)\n",
    "\n",
    "2. Soal-soal melingkupi materi yang sudah diajarkan, ada beberapa soal yang berupa\n",
    "studi kasus, dan soal-soal dibagi menjadi beberapa bagian berdasarkan tingkat\n",
    "kesulitannya.\n",
    "  - Beginner : 2 soal\n",
    "  - Intermediate : 3 soal\n",
    "  - Advance : 3 soal\n",
    "\n",
    "3. Upload hasil pengerjaan melalui LMS berupa attachment link pada submission atau\n",
    "attach notes berisi link\n"
   ]
  },
  {
   "cell_type": "markdown",
   "metadata": {
    "id": "jmHXyOyvuIkS"
   },
   "source": [
    "## KELOMPOK 17 | Homework Python Programming\n",
    "\n",
    "\n",
    "-Althaaf Athaayaa Daffa Qushayyizidane\n",
    "\n",
    "-Hidzqi Al-baqir\n",
    "\n",
    "-Mohd Fauzan Heryka Putra\n",
    "\n",
    "-Athiya Fathinati Anindya\n"
   ]
  },
  {
   "cell_type": "markdown",
   "metadata": {
    "id": "O3EgmuQdrGTK"
   },
   "source": [
    "## SOAL BEGINNER"
   ]
  },
  {
   "cell_type": "markdown",
   "metadata": {
    "id": "XofCixYLqGIa"
   },
   "source": [
    "## 1. Tentukan dari variabel\n",
    "\n",
    "list_plat_mobil = ['B 1234 AB', 'B 6721 TY', 'B 1233 AY', 'B 6629 DD', 'B 1111 AM', 'B 6726 D', 'D\n",
    "11223 KJ', 'AE 44677 GH', 'AE 67269 AA']\n",
    "Ada berapa jumlah plat genap dan ganjil. (5 poin)\n",
    "\n",
    "## Langkah-langkah:\n",
    "a. Gunakan materi iterasi dan conditional statement yang sudah kita pelajari\n",
    "\n",
    "b. Manfaatkan operasi modulo (%) untuk menentukan bilang genap / ganjil\n",
    "\n",
    "## Untuk mempermudah kamu, yuk lihat resource di bawah ini:\n",
    "● Sesi 1 dan 2 pada Python Programming\n",
    "\n",
    "● Soal ini related dengan challange pertama pada Sesi 1 Python Programming"
   ]
  },
  {
   "cell_type": "code",
   "execution_count": 1,
   "metadata": {
    "colab": {
     "base_uri": "https://localhost:8080/"
    },
    "id": "hpMlQiRlqX2X",
    "outputId": "6cc28b96-6c49-42be-fb24-23ad5a9970ce"
   },
   "outputs": [
    {
     "name": "stdout",
     "output_type": "stream",
     "text": [
      "Jumlah plat genap: 2\n",
      "Jumlah plat ganjil: 7\n"
     ]
    }
   ],
   "source": [
    "list_plat_mobil = ['B 1234 AB', 'B 6721 TY', 'B 1233 AY', 'B 6629 DD', 'B 1111 AM', 'B 6726 D', 'D 11223 KJ', 'AE 44677 GH', 'AE 67269 AA']\n",
    "genap = 0 #mendefinisikan variable genap\n",
    "ganjil = 0  #mendefinisikan variable ganjil\n",
    "\n",
    "for plat in list_plat_mobil:\n",
    "  plat_mobil = int(plat.split()[1]) #mengambil angka plat saja\n",
    "  if plat_mobil%2 == 0:\n",
    "    genap += 1\n",
    "  else :\n",
    "    ganjil +=1\n",
    "\n",
    "print(\"Jumlah plat genap:\", genap)\n",
    "print(\"Jumlah plat ganjil:\", ganjil)\n",
    "\n"
   ]
  },
  {
   "cell_type": "markdown",
   "metadata": {
    "id": "O1XTmEy3qlNF"
   },
   "source": [
    "## 2. Buatlah deret fibonacci 12 angka yang dimulai dari 2 dan 3 menggunakan iterasi cara for atau while.\n",
    "\n",
    "Output yang diharapkan adalah [2, 3, 5, 8, 13, 21, 34, 55, 89, 144, 233, 377] (5 poin)\n",
    "\n",
    "## Langkah-langkah\n",
    "a. Pahami apa itu deret fibonacci\n",
    "\n",
    "b. Buatlah variabel inisiasi untuk mengawali nilai item 2 dan 3\n",
    "\n",
    "## Untuk mempermudah kamu, yuk lihat resource di bawah ini:\n",
    "\n",
    "● Sesi 2 Python Programming bagian iterasi for / while"
   ]
  },
  {
   "cell_type": "code",
   "execution_count": null,
   "metadata": {
    "colab": {
     "base_uri": "https://localhost:8080/"
    },
    "id": "1XH7wtDLq8x4",
    "outputId": "714b3e6a-3394-404c-f5f5-9208aeed76f2"
   },
   "outputs": [
    {
     "name": "stdout",
     "output_type": "stream",
     "text": [
      "a adalah angka pertama: 2\n",
      "b adalah angka kedua: 3\n",
      "5 8 13 21 34 55 89 144 233 377 "
     ]
    }
   ],
   "source": [
    "a = 2\n",
    "b = 3\n",
    "\n",
    "print(f'a adalah angka pertama: {a}')  # Angka pertama\n",
    "print(f'b adalah angka kedua: {b}')  # Angka kedua\n",
    "\n",
    "for i in range(10):\n",
    "    c = a + b\n",
    "    print(c,end=' ') #memunculkan output yang sesuai\n",
    "    a = b\n",
    "    b = c"
   ]
  },
  {
   "cell_type": "code",
   "execution_count": 2,
   "metadata": {},
   "outputs": [
    {
     "name": "stdout",
     "output_type": "stream",
     "text": [
      "[2, 3, 5, 8, 13, 21, 34, 55, 89, 144, 233, 377]\n"
     ]
    }
   ],
   "source": [
    "# Inisialisasi variabel awal\n",
    "a = 2 # angka pertama\n",
    "b = 3 # angka kedua\n",
    "n = 12 # jumlah angka yang diinginkan\n",
    "\n",
    "# Buat list kosong untuk menyimpan hasil\n",
    "fibonacci = []\n",
    "\n",
    "# Gunakan perulangan for untuk menghitung angka selanjutnya\n",
    "for i in range(n):\n",
    "    # Tambahkan angka pertama ke list\n",
    "    fibonacci.append(a)\n",
    "    # Hitung angka selanjutnya dengan menjumlahkan dua angka sebelumnya\n",
    "    c = a + b\n",
    "    # Perbarui nilai a dan b dengan b dan c\n",
    "    a = b\n",
    "    b = c\n",
    "\n",
    "# Cetak list fibonacci\n",
    "print(fibonacci)\n"
   ]
  },
  {
   "cell_type": "markdown",
   "metadata": {
    "id": "jWN_F_S2rMaR"
   },
   "source": [
    "## SOAL INTERMEDIATE"
   ]
  },
  {
   "cell_type": "markdown",
   "metadata": {
    "id": "VBM4CglXrRmK"
   },
   "source": [
    "## 3. Team Campaign PT ABC akan membuat promo bundling category product (berisi 3 category setiap bundling) untuk promo 17 Agustus. PT ABC memiliki 10 category product.\n",
    "Ketentuan Bundling:\n",
    "1. Tidak boleh hanya memiliki 1 jenis category dalam 1 bundling\n",
    "2. 1 Bundling boleh memiliki 2 category yang sama\n",
    "3. Urutan tidak menjadi faktor pembeda (c1 - c2 - c3 = c2 - c1 - c3).\n",
    "\n",
    "Tentukan ada berapa jumlah kemungkinan bundling yang bisa terbentuk?\n",
    "Berikut list code category list_id_category = [c1, c2, c3, c4, c5, c6, c7 , c8, c9, c10] (10 poin)\n",
    "\n",
    "## Langkah-langkah:\n",
    "a. Buatlah variable kosong untuk menampung kemungkinan kombinasi\n",
    "\n",
    "b. Gunakan penerapan nested for (for dalam for)\n",
    "\n",
    "c. Buatlah logic pengecekan apakah kombinasi 3 categori sudah ada pada variable\n",
    "inisiasi awal\n",
    "\n",
    "d. Manfaatkan fungsi sort untuk mengurutkan urutan kombinasi\n",
    "\n",
    "## Untuk mempermudah kamu, yuk lihat resource di bawah ini:\n",
    "\n",
    "● Sesi 2 Iterasi bagian nested for dan Solusi Soal 3 Exercise pada LMS"
   ]
  },
  {
   "cell_type": "code",
   "execution_count": null,
   "metadata": {
    "id": "SZi_a-durleh"
   },
   "outputs": [],
   "source": [
    "list_id_category = ['c1', 'c2', 'c3', 'c4', 'c5', 'c6', 'c7' , 'c8', 'c9', 'c10']\n",
    "list_dua = ['c1', 'c2', 'c3', 'c4', 'c5', 'c6', 'c7' , 'c8', 'c9']\n",
    "list_tiga = ['c1', 'c2', 'c3', 'c4', 'c5', 'c6', 'c7' , 'c8']\n",
    "comb2 = []\n",
    "for x in list_id_category:\n",
    "    for y in list_dua:\n",
    "        for z in list_tiga:\n",
    "            if (x != z) & (x != y) & (y != z):\n",
    "                comb2.append(x+'-'+y+'-'+z)"
   ]
  },
  {
   "cell_type": "code",
   "execution_count": null,
   "metadata": {
    "colab": {
     "base_uri": "https://localhost:8080/"
    },
    "id": "3nEEJeygy05W",
    "outputId": "c3e30c65-f3d7-42c9-c247-427975286e5f"
   },
   "outputs": [
    {
     "data": {
      "text/plain": [
       "120"
      ]
     },
     "execution_count": 6,
     "metadata": {},
     "output_type": "execute_result"
    }
   ],
   "source": [
    "sel = []\n",
    "for num,x in enumerate(comb2):\n",
    "    x = x.split('-')\n",
    "    x.sort()\n",
    "    if len(sel) == 0:\n",
    "        sel.append(x)\n",
    "    elif x not in sel:\n",
    "        sel.append(x)\n",
    "len(sel)"
   ]
  },
  {
   "cell_type": "markdown",
   "metadata": {
    "id": "1Qb5qHVarnTO"
   },
   "source": [
    "## 4. Buatlah sebuah function string_processor dengan inputan 2 parameter, yaitu suatu string 1 kata dan nama proses yang akan dilakukan. Function ini memiliki 4 proses\n",
    "a. first_char : return huruf pertama dari string yang diinput\n",
    "\n",
    "b. last_char : return huruf terakhir dari string yang diinput\n",
    "\n",
    "c. num_chars : return jumlah huruf string input\n",
    "\n",
    "d. num_vowels : return jumlah huruf vocal pada string input\n",
    "\n",
    "(12 poin)\n",
    "\n",
    "## Langkah-langkah:\n",
    "a. Buatlah function baru bernama string_processor\n",
    "\n",
    "b. Function ini memiliki 2 parameter\n",
    "\n",
    "c. Buatlah conditional statement di dalam function nya sesuai dengan opsi proses yang dipilih ketika melakukan function call\n",
    "\n",
    "## Untuk mempermudah kamu, yuk lihat resource di bawah ini:\n",
    "● Sesi 3 pada Materi Function"
   ]
  },
  {
   "cell_type": "code",
   "execution_count": null,
   "metadata": {
    "id": "NA7ldt0Ur9Kn"
   },
   "outputs": [],
   "source": [
    "def string_processor(string, process):\n",
    "    vokal = ['A','a','I','i','U','u','E','e','O','o']\n",
    "    vow = []\n",
    "    if process == 'first_char':\n",
    "        return string[0]\n",
    "    elif process == 'last_char':\n",
    "        return string[len(string)-1]\n",
    "    elif process == 'num_char':\n",
    "        return len(string)\n",
    "    elif process == 'num_vowel':\n",
    "        for x in list(string):\n",
    "            if x in vokal:\n",
    "                vow.append(x)\n",
    "        return len(vow)"
   ]
  },
  {
   "cell_type": "code",
   "execution_count": 1,
   "metadata": {},
   "outputs": [],
   "source": [
    "def string_processor(string, process):\n",
    "    vowels = 'aeiouAEIOU'\n",
    "    if process == 'first_char':\n",
    "        return string[0]\n",
    "    elif process == 'last_char':\n",
    "        return string[-1]\n",
    "    elif process == 'num_char':\n",
    "        return len(string)\n",
    "    elif process == 'num_vowel':\n",
    "        return sum(1 for char in string if char in vowels)\n"
   ]
  },
  {
   "cell_type": "code",
   "execution_count": 2,
   "metadata": {
    "colab": {
     "base_uri": "https://localhost:8080/"
    },
    "id": "ZyhCVpvs1Kww",
    "outputId": "bd87ed4a-1b42-48b4-d11e-7cffd8c1509d"
   },
   "outputs": [
    {
     "data": {
      "text/plain": [
       "3"
      ]
     },
     "execution_count": 2,
     "metadata": {},
     "output_type": "execute_result"
    }
   ],
   "source": [
    "string_processor('Hidzqia', 'num_vowel')"
   ]
  },
  {
   "cell_type": "markdown",
   "metadata": {
    "id": "mOcgS7wEsA4Q"
   },
   "source": [
    "## 5. Menggunakan dataset rakamin_store_city_monthly! Buatlah 1 kolom baru pada dengan teknik apply lambda tanpa function def (cukup one liner) dengan nama kolom is_gmail dengan value True jika menggunakan gmail dan False jika selain gmail.\n",
    "Tentukan ada berapa user yang menggunakan email gmail pada tahun 2018!\n",
    "(14 poin)\n",
    "\n",
    "## Langkah-langkah:\n",
    "\n",
    "a. Gunakan teknik apply lambda untuk membuat membuat kolom tahun dengan cara\n",
    "slicing index\n",
    "\n",
    "b. Gunakan teknik apply lambda yang fokus di satu kolom untuk membuat kolom baru\n",
    "\n",
    "c. Untuk melakukan pengecekan apakah gmail atau tidak bisa menggunakan fungsi in\n",
    "\n",
    "## Untuk mempermudah kamu, yuk lihat resource di bawah ini:\n",
    "● Sesi 3 pada Materi Function"
   ]
  },
  {
   "cell_type": "code",
   "execution_count": null,
   "metadata": {
    "colab": {
     "base_uri": "https://localhost:8080/"
    },
    "id": "3ZvwP15LsTu1",
    "outputId": "4383dd4c-ae7c-4e0b-caa7-61fbccb092f1"
   },
   "outputs": [
    {
     "data": {
      "text/plain": [
       "3"
      ]
     },
     "execution_count": 2,
     "metadata": {},
     "output_type": "execute_result"
    }
   ],
   "source": [
    "import pandas as pd\n",
    "\n",
    "df = pd.read_csv('rakamin_store_city_monthly.csv',\n",
    "                delimiter=';')\n",
    "\n",
    "df['is_gmail'] = df['email'].apply(lambda x: True if 'gmail' in x else False)\n",
    "is_mail_true = df[df['month'].str.contains('2018') & df['is_gmail'] == True]\n",
    "print(is_mail_true)"
   ]
  },
  {
   "cell_type": "markdown",
   "metadata": {
    "id": "_IjKzDLbsUqq"
   },
   "source": [
    "## SOAL ADVANCED"
   ]
  },
  {
   "cell_type": "markdown",
   "metadata": {
    "id": "Q1XbtCheseQC"
   },
   "source": [
    "## 6. Menggunakan dataset superstore! Buatlah function yang bisa menghitung Jumlah Sales dan Profit pada suatu tahun dan region tertentu dengan default tahun 2017.\n",
    "Tentukan total sales dan profit:\n",
    "1. South Region pada tahun 2016\n",
    "2. West Region pada tahun 2017\n",
    "(14 poin)\n",
    "\n",
    "## Langkah-langkah:\n",
    "\n",
    "a. Buatlah function dengan 2 parameter, salah satu parameter nya merupakan default value 2017\n",
    "\n",
    "b. Gunakan column Sales dan Profit sebagai metric yang di agregasi (group by)\n",
    "\n",
    "## Untuk mempermudah kamu, yuk lihat resource di bawah ini:\n",
    "\n",
    "● Sesi 3 pada Materi Function bagian default parameter\n"
   ]
  },
  {
   "cell_type": "code",
   "execution_count": null,
   "metadata": {
    "colab": {
     "base_uri": "https://localhost:8080/"
    },
    "id": "GCW2YkcPss9f",
    "outputId": "0dd20cbd-03ff-4c62-a3f5-7277b9276973"
   },
   "outputs": [
    {
     "name": "stdout",
     "output_type": "stream",
     "text": [
      "1.2017 West\n",
      "              Sales      Profit\n",
      "Region                         \n",
      "West    250128.3655  43808.9561\n",
      " \n",
      "2.2016 South\n",
      "             Sales      Profit\n",
      "Region                        \n",
      "South   93610.2235  17702.8084\n",
      " \n"
     ]
    }
   ],
   "source": [
    "supers = pd.read_excel('superstore.xls')\n",
    "\n",
    "def total_sales(region1, region2,year=2017):\n",
    "    for y,x in zip([region1,region2],range(0,3)):\n",
    "        print(f'{x+1}.{year-x} {y}')\n",
    "        date = supers['Order Date'].dt.year == year-x\n",
    "        reg = supers['Region'] == y\n",
    "        group = supers[date & reg].groupby('Region').aggregate({'Sales':'sum',\n",
    "                                                   'Profit':'sum'})\n",
    "        print(group)\n",
    "        print(' ')\n",
    "\n",
    "\n",
    "total_sales('West','South')"
   ]
  },
  {
   "cell_type": "code",
   "execution_count": 5,
   "metadata": {},
   "outputs": [
    {
     "name": "stdout",
     "output_type": "stream",
     "text": [
      "1.2017 West\n",
      "              Sales      Profit\n",
      "Region                         \n",
      "West    250128.3655  43808.9561\n",
      " \n",
      "2.2016 South\n",
      "             Sales      Profit\n",
      "Region                        \n",
      "South   93610.2235  17702.8084\n",
      " \n"
     ]
    }
   ],
   "source": [
    "# Impor modul pandas dan baca file excel\n",
    "import pandas as pd\n",
    "supers = pd.read_excel('superstore.xls')\n",
    "\n",
    "# Buat fungsi untuk menghitung total penjualan dan keuntungan berdasarkan region dan tahun\n",
    "def total_sales(region1, region2,year=2017):\n",
    "    # Buat daftar region yang akan dihitung\n",
    "    regions = [region1, region2]\n",
    "    # Buat perulangan untuk setiap region\n",
    "    for i in range(len(regions)):\n",
    "        # Tentukan tahun yang akan dihitung berdasarkan indeks perulangan\n",
    "        year_to_count = year - i\n",
    "        # Cetak informasi region dan tahun\n",
    "        print(f'{i+1}.{year_to_count} {regions[i]}')\n",
    "        # Filter data supers berdasarkan region dan tahun yang sesuai\n",
    "        filtered_data = supers[(supers['Region'] == regions[i]) & (supers['Order Date'].dt.year == year_to_count)]\n",
    "        # Kelompokkan data berdasarkan region dan hitung total penjualan dan keuntungan\n",
    "        grouped_data = filtered_data.groupby('Region').aggregate({'Sales':'sum','Profit':'sum'})\n",
    "        # Cetak hasil perhitungan\n",
    "        print(grouped_data)\n",
    "        # Cetak spasi kosong untuk memisahkan antara hasil perulangan\n",
    "        print(' ')\n",
    "\n",
    "# Panggil fungsi dengan parameter 'West' dan 'South'\n",
    "total_sales('West','South')\n"
   ]
  },
  {
   "cell_type": "markdown",
   "metadata": {
    "id": "4hQTV1GfstrY"
   },
   "source": [
    "## 7. Menggunakan dataset superstore! Buatlah 3 kelompok 'segment' (high, medium, dan low) berdasarkan performance Sales yang digunakan sebagai acuan tim bisnis untuk mengelompokan customer superstore.\n",
    "\n",
    "Instruksi:\n",
    "1. Bantulah tim bisnis untuk menentukan kriteria pengelompokan untuk 3 segmentasi customer ini, dan gunakan iterrows atau apply lambda sebagai teknik pembuatan kolom baru!\n",
    "\n",
    "2. Berikan alasan kalian dalam penentuan kriteria pengelompokan customer yang\n",
    "dibuat!\n",
    "\n",
    "3. Tentukan jumlah customer pada masing-masing segment di tahun 2017!\n",
    "(20 poin)\n",
    "\n",
    "## Langkah-langkah:\n",
    "\n",
    "a. Buatlah kolom tahun terlebih dahulu, bisa memanfaatkan kolom Order Date\n",
    "\n",
    "b. Hati-hati, karena ini segmentasi user maka perlu melakukan agregasi di level user terlebih dulu sebelum melakukan segmentasi\n",
    "\n",
    "c. Tentukan threshold tiap-tiap segment, bisa menggunakan statistic descriptive\n",
    "(describe)\n",
    "\n",
    "d. Buatlah syntax function atau iterrows untuk membuat kolom baru\n",
    "\n",
    "e. Pastikan ada handling exception jika ada kemungkinan error\n",
    "\n",
    "## Untuk mempermudah kamu, yuk lihat resource di bawah ini:\n",
    "\n",
    "● Sesi 3 dan 4 pada Materi Function dan handling error"
   ]
  },
  {
   "cell_type": "code",
   "execution_count": 2,
   "metadata": {
    "colab": {
     "base_uri": "https://localhost:8080/"
    },
    "id": "kjTrUCZCs8PW",
    "outputId": "5534353e-13fd-4955-a52b-34879e92f639"
   },
   "outputs": [
    {
     "name": "stdout",
     "output_type": "stream",
     "text": [
      "count     9994.000000\n",
      "mean       229.858001\n",
      "std        623.245101\n",
      "min          0.444000\n",
      "25%         17.280000\n",
      "50%         54.490000\n",
      "75%        209.940000\n",
      "max      22638.480000\n",
      "Name: Sales, dtype: float64\n"
     ]
    }
   ],
   "source": [
    "import pandas as pd\n",
    "import numpy as np\n",
    "\n",
    "# Load dataset\n",
    "superstore_segment = pd.read_excel('superstore.xls')\n",
    "\n",
    "# Membuat kolom Tahun\n",
    "superstore_segment['Year'] = superstore_segment['Order Date'].dt.year\n",
    "sales_stats = superstore_segment['Sales'].describe()\n",
    "# Menampilkan statistik deskriptif\n",
    "print(sales_stats)"
   ]
  },
  {
   "cell_type": "code",
   "execution_count": 3,
   "metadata": {
    "colab": {
     "base_uri": "https://localhost:8080/",
     "height": 143
    },
    "id": "AybZ08PT0FPu",
    "outputId": "f56934fd-05c5-4dc3-c4b2-af3f5673dc36"
   },
   "outputs": [
    {
     "data": {
      "text/html": [
       "<div>\n",
       "<style scoped>\n",
       "    .dataframe tbody tr th:only-of-type {\n",
       "        vertical-align: middle;\n",
       "    }\n",
       "\n",
       "    .dataframe tbody tr th {\n",
       "        vertical-align: top;\n",
       "    }\n",
       "\n",
       "    .dataframe thead th {\n",
       "        text-align: right;\n",
       "    }\n",
       "</style>\n",
       "<table border=\"1\" class=\"dataframe\">\n",
       "  <thead>\n",
       "    <tr style=\"text-align: right;\">\n",
       "      <th></th>\n",
       "      <th>Year</th>\n",
       "      <th>Segment</th>\n",
       "      <th>total_customers</th>\n",
       "    </tr>\n",
       "  </thead>\n",
       "  <tbody>\n",
       "    <tr>\n",
       "      <th>0</th>\n",
       "      <td>2017</td>\n",
       "      <td>high</td>\n",
       "      <td>451</td>\n",
       "    </tr>\n",
       "    <tr>\n",
       "      <th>1</th>\n",
       "      <td>2017</td>\n",
       "      <td>low</td>\n",
       "      <td>455</td>\n",
       "    </tr>\n",
       "    <tr>\n",
       "      <th>2</th>\n",
       "      <td>2017</td>\n",
       "      <td>medium</td>\n",
       "      <td>602</td>\n",
       "    </tr>\n",
       "  </tbody>\n",
       "</table>\n",
       "</div>"
      ],
      "text/plain": [
       "   Year Segment  total_customers\n",
       "0  2017    high              451\n",
       "1  2017     low              455\n",
       "2  2017  medium              602"
      ]
     },
     "execution_count": 3,
     "metadata": {},
     "output_type": "execute_result"
    }
   ],
   "source": [
    "#membuat function segment\n",
    "def segment(x):\n",
    "    if x['Sales'] >= 209.940000:\n",
    "        segment = 'high'\n",
    "    elif x['Sales'] <= 54.490000 :\n",
    "        segment = 'medium'\n",
    "    else:\n",
    "        segment = 'low'\n",
    "    return segment\n",
    "\n",
    "# Memunculkan customer pada tahun 2017\n",
    "superstore_segment['segment_apply'] = superstore_segment.apply(lambda x: segment(x), axis=1)\n",
    "superstore_segment_2017 = superstore_segment[superstore_segment['Year'] == 2017]\n",
    "\n",
    "# Menghitung jumlah customer pada tahun 2017\n",
    "superstore_segment_2017_count = superstore_segment_2017.groupby(['Year','segment_apply']).agg({'Customer ID' : 'nunique'}).reset_index()\n",
    "superstore_segment_2017_count.columns = ['Year','Segment','total_customers']\n",
    "superstore_segment_2017_count"
   ]
  },
  {
   "cell_type": "code",
   "execution_count": 22,
   "metadata": {},
   "outputs": [
    {
     "name": "stdout",
     "output_type": "stream",
     "text": [
      "   Year Segment  total_customers\n",
      "0  2017    high              201\n",
      "1  2017     low              129\n",
      "2  2017  medium              363\n"
     ]
    }
   ],
   "source": [
    "import pandas as pd\n",
    "\n",
    "# Load dataset\n",
    "superstore_segment = pd.read_excel('superstore.xls')\n",
    "\n",
    "# Create Year column\n",
    "superstore_segment['Year'] = superstore_segment['Order Date'].dt.year\n",
    "\n",
    "# Aggregate at the user level\n",
    "superstore_segment = superstore_segment.groupby(['Year', 'Customer ID']).agg({'Sales': 'sum'}).reset_index()\n",
    "\n",
    "\n",
    "# Determine threshold for each segment using descriptive statistics\n",
    "sales_describe = superstore_segment['Sales'].describe()\n",
    "low_threshold = sales_describe['25%']\n",
    "high_threshold = sales_describe['75%']\n",
    "\n",
    "# Create segment function\n",
    "def segment(row):\n",
    "    if row['Sales'] >= high_threshold:\n",
    "        return 'high'\n",
    "    elif row['Sales'] <= low_threshold:\n",
    "        return 'low'\n",
    "    else:\n",
    "        return 'medium'\n",
    "\n",
    "# Apply segment function and filter for 2017\n",
    "superstore_segment['Segment'] = superstore_segment.apply(segment, axis=1)\n",
    "superstore_2017 = superstore_segment[superstore_segment.Year == 2017]\n",
    "\n",
    "# Count unique customers in 2017\n",
    "customer_count = superstore_2017.groupby(['Year', 'Segment'])['Customer ID'].nunique().reset_index()\n",
    "customer_count.columns = ['Year', 'Segment', 'total_customers']\n",
    "print(customer_count)\n"
   ]
  },
  {
   "cell_type": "markdown",
   "metadata": {
    "id": "CrJ8VRSNtKtm"
   },
   "source": [
    "## 8. Buatlah suatu module bebas, dengan suatu manfaat tertentu (Belum ada pada materi Function).\n",
    "Komponen yang wajib ada\n",
    "- Function\n",
    "- Docstring\n",
    "- Memanfaatkan conditional statement / iterasi (at least menggunakan salah satunya)\n",
    "- Terdapat kondisi handling exception error\n",
    "(20 poin)\n",
    "\n",
    "## Langkah-langkah:\n",
    "\n",
    "a. Tentukan objective dari module yang akan dibuat.\n",
    "\n",
    "b. Buat drafting module pada project jupyter untuk melakukan testing. Pastikan terdapat point-point yang diminta\n",
    "\n",
    "c. Copy function yang sudah dibuat pada suatu file berformat .py\n",
    "\n",
    "d. Lakukan import pada project jupyter\n",
    "\n",
    "e. Lakukan function call\n",
    "\n",
    "## Untuk mempermudah kamu, yuk lihat resource di bawah ini:\n",
    "\n",
    "● Semua sesi yang sudah diajarkan pada Python Programming (Sesi 1-4)\n"
   ]
  },
  {
   "cell_type": "code",
   "execution_count": null,
   "metadata": {
    "colab": {
     "base_uri": "https://localhost:8080/"
    },
    "id": "xRE2s9I7tcKe",
    "outputId": "27059777-3f07-4c46-9c34-f794de73f107"
   },
   "outputs": [
    {
     "name": "stdout",
     "output_type": "stream",
     "text": [
      "Writing lingkaran.py\n"
     ]
    }
   ],
   "source": [
    "%%writefile lingkaran.py\n",
    "\n",
    "import math\n",
    "\n",
    "def hitung_luas_lingkaran(jari_jari):\n",
    "    luas = math.pi * jari_jari**2\n",
    "    return luas"
   ]
  },
  {
   "cell_type": "code",
   "execution_count": null,
   "metadata": {
    "colab": {
     "base_uri": "https://localhost:8080/"
    },
    "id": "xx8CF8iMZ8pg",
    "outputId": "d0060399-020c-4705-d133-fe35d158c5b8"
   },
   "outputs": [
    {
     "name": "stdout",
     "output_type": "stream",
     "text": [
      "Luas lingkaran dengan jari-jari 5 adalah: 78.53981633974483\n"
     ]
    }
   ],
   "source": [
    "from lingkaran import hitung_luas_lingkaran\n",
    "\n",
    "jari_jari = 5\n",
    "luas = hitung_luas_lingkaran(jari_jari)\n",
    "print(\"Luas lingkaran dengan jari-jari\", jari_jari, \"adalah:\", luas)"
   ]
  },
  {
   "cell_type": "markdown",
   "metadata": {
    "id": "HJDa8KLote5X"
   },
   "source": [
    "## Ketentuan pengumpulan\n",
    "1. Homework dikerjakan secara berkelompok 1 team berisi 2-3 orang.\n",
    "2. Untuk Soal 1-7 dikerjakan menggunakan https://colab.research.google.com/\n",
    "\n",
    "  a. Pastikan nama anggota kelompok tertera pada project\n",
    "\n",
    "  b. Setiap peserta mengumpulkan link yang sama\n",
    "\n",
    "  c. Berikan akses edit akun email asisten tutor untuk keperluan proses\n",
    "pengoreksian.\n",
    "\n",
    "3. Untuk Soal 8 pada Jupyter Local (Upload file pada suatu drive)\n",
    "\n",
    "4. Deadline pengumpulan Mengikuti deadline di LMS!\n",
    "\n",
    "5. Kumpulkan dengan melakukan attach link pada submission atau attach notes berisi link\n"
   ]
  },
  {
   "cell_type": "code",
   "execution_count": null,
   "metadata": {
    "id": "ThAbNjlZtpsu"
   },
   "outputs": [],
   "source": []
  }
 ],
 "metadata": {
  "colab": {
   "provenance": []
  },
  "kernelspec": {
   "display_name": "Python 3 (ipykernel)",
   "language": "python",
   "name": "python3"
  },
  "language_info": {
   "codemirror_mode": {
    "name": "ipython",
    "version": 3
   },
   "file_extension": ".py",
   "mimetype": "text/x-python",
   "name": "python",
   "nbconvert_exporter": "python",
   "pygments_lexer": "ipython3",
   "version": "3.10.9"
  }
 },
 "nbformat": 4,
 "nbformat_minor": 4
}
